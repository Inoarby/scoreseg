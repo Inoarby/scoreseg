{
 "cells": [
  {
   "cell_type": "code",
   "execution_count": 4,
   "metadata": {},
   "outputs": [],
   "source": [
    "# Import msuc21 and set environment variables\n",
    "from music21 import *\n",
    "import os\n",
    "import subprocess\n",
    "import csv"
   ]
  },
  {
   "cell_type": "code",
   "execution_count": 6,
   "metadata": {},
   "outputs": [],
   "source": [
    "file = r\"C:\\Users\\InOarby\\Documents\\MuseScore4\\Scores\\solo guitar\\Minuet by G.P.Telemann.musicxml\"\n",
    "seg_dir = \"segment_dir\"\n",
    "mp3_dir = \"mp3_dir\"\n",
    "svg_dir = \"svg_dir\""
   ]
  },
  {
   "cell_type": "code",
   "execution_count": 22,
   "metadata": {},
   "outputs": [],
   "source": [
    "# Read the file and show\n",
    "s = converter.parse(file)\n",
    "s.show('musicxml')"
   ]
  },
  {
   "cell_type": "code",
   "execution_count": 28,
   "metadata": {},
   "outputs": [],
   "source": [
    "def divide_score_at_rehearsal_marks(file, output_dir):\n",
    "    # Load the score\n",
    "    score = converter.parse(file)\n",
    "    # Only use the first part\n",
    "    part = score.parts[0]\n",
    "\n",
    "    score_name = score.metadata.title + \" by \" + score.metadata.composer\n",
    "    score_name = score_name.replace(\" \", \"_\")\n",
    "    score_name = score_name.replace(\".\", \"_\")\n",
    "\n",
    "    clef = part.measure(1).clef\n",
    "    key = part.measure(1).keySignature\n",
    "\n",
    "    #score = score.parts[0]\n",
    "    # Initial setup\n",
    "    measures = part.getElementsByClass('Measure')\n",
    "    split_scores = []\n",
    "    current_score = None\n",
    "\n",
    "    # Iterate over the measures\n",
    "    for measure in measures:\n",
    "        # Check if the measure has a rehearsal mark\n",
    "        if any(isinstance(el, expressions.RehearsalMark) for el in measure.elements):\n",
    "            # If a score is already in progress, add it to the list of split scores\n",
    "            if current_score is not None and len(current_score.getElementsByClass('Measure')) > 1:\n",
    "                split_scores.append(current_score)\n",
    "            # Start a new score with the global information of the original score\n",
    "            measure.removeByClass(bar.Repeat)\n",
    "            current_score = part.cloneEmpty()\n",
    "            current_score.insert(0, measure)\n",
    "            current_score.insert(0, clef)\n",
    "            current_score.insert(0, key)\n",
    "        else:\n",
    "            # If there is a current score, add the measure to it\n",
    "            if current_score is not None:\n",
    "                measure.removeByClass(bar.Repeat)\n",
    "                current_score.insert(measure.offset, measure)\n",
    "\n",
    "    # Add the last score if it exists\n",
    "    if current_score is not None and len(current_score.getElementsByClass('Measure')) > 1:\n",
    "        split_scores.append(current_score.getElementsByClass('Measure'))\n",
    "\n",
    "    # Save the split scores to separate MusicXML files\n",
    "    for i, split_score in enumerate(split_scores):\n",
    "        split_score.write('musicxml', os.path.join(output_dir, f'{score_name}_{i+1}.musicxml'))\n",
    "\n",
    "\n",
    "# Call the function\n",
    "divide_score_at_rehearsal_marks(file, seg_dir)\n"
   ]
  },
  {
   "cell_type": "code",
   "execution_count": 29,
   "metadata": {},
   "outputs": [],
   "source": [
    "def convert_musicxml_to_svg(input_dir, output_dir):\n",
    "    musescore = r'C:\\Program Files\\MuseScore 4\\bin\\MuseScore4.exe'\n",
    "    # Get a list of all MusicXML files in the input directory\n",
    "    input_files = [f for f in os.listdir(input_dir) if f.endswith('.musicxml')]\n",
    "    \n",
    "    for input_file in input_files:\n",
    "        # Define the input and output paths\n",
    "        input_path = os.path.join(input_dir, input_file)\n",
    "        output_path = os.path.join(output_dir, f'{os.path.splitext(input_file)[0]}.svg')\n",
    "        \n",
    "        # Convert the MusicXML file to PNG using MuseScore4 command-line interface\n",
    "        subprocess.run([musescore, '-o', output_path, input_path, '-T', '100'])\n",
    "\n",
    "# Call the function\n",
    "convert_musicxml_to_svg(seg_dir, svg_dir)"
   ]
  },
  {
   "cell_type": "code",
   "execution_count": 30,
   "metadata": {},
   "outputs": [],
   "source": [
    "\n",
    "def convert_musicxml_to_mp3(input_dir, output_dir):\n",
    "    musescore = r'C:\\Program Files\\MuseScore 4\\bin\\MuseScore4.exe'\n",
    "    # Get a list of all MusicXML files in the input directory\n",
    "    input_files = [f for f in os.listdir(input_dir) if f.endswith('.musicxml')]\n",
    "    \n",
    "    for input_file in input_files:\n",
    "        # Define the input and output paths\n",
    "        input_path = os.path.join(input_dir, input_file)\n",
    "        output_path = os.path.join(output_dir, f'{os.path.splitext(input_file)[0]}.mp3')\n",
    "        \n",
    "        # Convert the MusicXML file to PNG using MuseScore4 command-line interface\n",
    "        subprocess.run([musescore, '-o', output_path, input_path])\n",
    "\n",
    "# Call the function\n",
    "convert_musicxml_to_mp3(seg_dir, mp3_dir)"
   ]
  },
  {
   "cell_type": "code",
   "execution_count": 61,
   "metadata": {},
   "outputs": [],
   "source": [
    "def write_anki_import_file(media_list, output_dir):\n",
    "    with open(os.path.join(output_dir, 'anki_import.txt'), 'w', newline='', encoding='utf-8') as f:\n",
    "        writer = csv.writer(f, delimiter=';')\n",
    "        for m in media_list:  # For each set of MusicXML, PNG, and MP3 files\n",
    "            front = f'<img src=\"{m}.svg\">'\n",
    "            back = f'[sound:{m}.mp3]'\n",
    "            writer.writerow([front, back, f'{m}'])  # The third column is the card tag\n",
    "\n",
    "media_list = [os.path.splitext(f)[0] for f in os.listdir(seg_dir)]\n",
    "write_anki_import_file(media_list, './')"
   ]
  }
 ],
 "metadata": {
  "kernelspec": {
   "display_name": "Python 3 (ipykernel)",
   "language": "python",
   "name": "python3"
  },
  "language_info": {
   "codemirror_mode": {
    "name": "ipython",
    "version": 3
   },
   "file_extension": ".py",
   "mimetype": "text/x-python",
   "name": "python",
   "nbconvert_exporter": "python",
   "pygments_lexer": "ipython3",
   "version": "3.9.13"
  },
  "orig_nbformat": 4
 },
 "nbformat": 4,
 "nbformat_minor": 2
}
